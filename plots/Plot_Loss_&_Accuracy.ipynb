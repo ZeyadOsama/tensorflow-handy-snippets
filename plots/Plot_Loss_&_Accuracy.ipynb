{
  "nbformat": 4,
  "nbformat_minor": 0,
  "metadata": {
    "colab": {
      "name": "Plot Loss & Accuracy.ipynb",
      "provenance": [],
      "collapsed_sections": [],
      "authorship_tag": "ABX9TyOIn9eRNTkiEM6a/C84bWJJ",
      "include_colab_link": true
    },
    "kernelspec": {
      "name": "python3",
      "display_name": "Python 3"
    }
  },
  "cells": [
    {
      "cell_type": "markdown",
      "metadata": {
        "id": "view-in-github",
        "colab_type": "text"
      },
      "source": [
        "<a href=\"https://colab.research.google.com/github/ZeyadOsama/tensorflow-handy-snippets/blob/master/plots/Plot_Loss_%26_Accuracy.ipynb\" target=\"_parent\"><img src=\"https://colab.research.google.com/assets/colab-badge.svg\" alt=\"Open In Colab\"/></a>"
      ]
    },
    {
      "cell_type": "code",
      "metadata": {
        "id": "hXzce7HVAeVJ",
        "colab_type": "code",
        "colab": {}
      },
      "source": [
        "def plot_loss(history, validation:bool=False):\n",
        "    import matplotlib.image  as mpimg\n",
        "    import matplotlib.pyplot as plt\n",
        "\n",
        "    # Retrieve a list of list results on\n",
        "    # training and test data sets for each training epoch\n",
        "    loss = history.history['loss']\n",
        "\n",
        "    # Get number of epochs\n",
        "    epochs = range(len(loss)) \n",
        "\n",
        "    # Plot training and validation loss per epoch\n",
        "    plt.plot(epochs, loss, 'r', \"Training Loss\")\n",
        "\n",
        "    if validation:\n",
        "        val_loss = history.history['val_loss']\n",
        "        plt.plot(epochs, val_loss, 'b', \"Validation Loss\")\n",
        "\n",
        "    plt.title('Training and validation loss')\n",
        "    plt.figure()\n",
        "    return"
      ],
      "execution_count": 0,
      "outputs": []
    },
    {
      "cell_type": "code",
      "metadata": {
        "id": "x6E1uLUpArBL",
        "colab_type": "code",
        "colab": {}
      },
      "source": [
        "def plot_acc(history, validation:bool=False):\n",
        "    import matplotlib.image  as mpimg\n",
        "    import matplotlib.pyplot as plt\n",
        "\n",
        "    # Retrieve a list of list results on\n",
        "    # training and test data sets for each training epoch\n",
        "    acc = history.history['accuracy']\n",
        "\n",
        "    # Get number of epochs\n",
        "    epochs = range(len(acc))\n",
        "\n",
        "    # Plot training and validation accuracy per epoch\n",
        "    plt.plot(epochs, acc, 'r', \"Training Accuracy\")\n",
        "    \n",
        "    if validation:\n",
        "        val_acc = history.history['val_accuracy']\n",
        "        plt.plot(epochs, val_acc, 'b', \"Validation Accuracy\")\n",
        "    \n",
        "    plt.title('Training and validation accuracy')\n",
        "    plt.figure()\n",
        "    return"
      ],
      "execution_count": 0,
      "outputs": []
    }
  ]
}