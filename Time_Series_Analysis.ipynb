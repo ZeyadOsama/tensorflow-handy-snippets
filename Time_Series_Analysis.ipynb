{
  "nbformat": 4,
  "nbformat_minor": 0,
  "metadata": {
    "colab": {
      "name": "Time Series Analysis.ipynb",
      "provenance": [],
      "authorship_tag": "ABX9TyNIpqNawtQMkUH1592MoAzf",
      "include_colab_link": true
    },
    "kernelspec": {
      "name": "python3",
      "display_name": "Python 3"
    }
  },
  "cells": [
    {
      "cell_type": "markdown",
      "metadata": {
        "id": "view-in-github",
        "colab_type": "text"
      },
      "source": [
        "<a href=\"https://colab.research.google.com/github/ZeyadOsama/tensorflow-handy-snippets/blob/master/Time_Series_Analysis.ipynb\" target=\"_parent\"><img src=\"https://colab.research.google.com/assets/colab-badge.svg\" alt=\"Open In Colab\"/></a>"
      ]
    },
    {
      "cell_type": "markdown",
      "metadata": {
        "id": "YEZDnsoibbEV",
        "colab_type": "text"
      },
      "source": [
        "# Time Series Analysis"
      ]
    },
    {
      "cell_type": "markdown",
      "metadata": {
        "id": "pgydneK7ciBZ",
        "colab_type": "text"
      },
      "source": [
        "## Windowing"
      ]
    },
    {
      "cell_type": "code",
      "metadata": {
        "id": "6_DUFCa1bTZS",
        "colab_type": "code",
        "colab": {}
      },
      "source": [
        "def windowed_dataset(series, window_size, batch_size, shuffle_buffer):\n",
        "    import tensorflow as tf\n",
        "    series = tf.expand_dims(series, axis=-1)\n",
        "    ds = tf.data.Dataset.from_tensor_slices(series)\n",
        "    ds = ds.window(window_size + 1, shift=1, drop_remainder=True)\n",
        "    ds = ds.flat_map(lambda w: w.batch(window_size + 1))\n",
        "    ds = ds.shuffle(shuffle_buffer)\n",
        "    ds = ds.map(lambda w: (w[:-1], w[1:]))\n",
        "    return ds.batch(batch_size).prefetch(1)"
      ],
      "execution_count": 0,
      "outputs": []
    },
    {
      "cell_type": "markdown",
      "metadata": {
        "id": "SpoQHz5VbfnJ",
        "colab_type": "text"
      },
      "source": [
        "Example Code"
      ]
    },
    {
      "cell_type": "code",
      "metadata": {
        "id": "CNuGvPn_bkA3",
        "colab_type": "code",
        "colab": {}
      },
      "source": [
        "train_set = windowed_dataset(x_train, window_size, batch_size=batch_size, shuffle_buffer=shuffle_buffer_size)\n",
        "\n",
        "# Create your Model\n",
        "model = tf.keras.models.Sequential(\n",
        "    # Layers \n",
        "    )\n",
        "\n",
        "model.fit(train_set, epochs=100)"
      ],
      "execution_count": 0,
      "outputs": []
    },
    {
      "cell_type": "markdown",
      "metadata": {
        "id": "LueQ_Mr5ccyr",
        "colab_type": "text"
      },
      "source": [
        "## Model Forcasting"
      ]
    },
    {
      "cell_type": "code",
      "metadata": {
        "id": "DCo3WKwLcbzM",
        "colab_type": "code",
        "colab": {}
      },
      "source": [
        "def model_forecast(model, series, window_size):\n",
        "    import tensorflow as tf\n",
        "    ds = tf.data.Dataset.from_tensor_slices(series)\n",
        "    ds = ds.window(window_size, shift=1, drop_remainder=True)\n",
        "    ds = ds.flat_map(lambda w: w.batch(window_size))\n",
        "    ds = ds.batch(32).prefetch(1)\n",
        "    forecast = model.predict(ds)\n",
        "    return forecast"
      ],
      "execution_count": 0,
      "outputs": []
    }
  ]
}