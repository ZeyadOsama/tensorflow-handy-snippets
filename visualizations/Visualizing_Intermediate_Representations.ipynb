{
  "nbformat": 4,
  "nbformat_minor": 0,
  "metadata": {
    "colab": {
      "name": "Visualizing Intermediate Representations.ipynb",
      "provenance": [],
      "collapsed_sections": [],
      "toc_visible": true,
      "authorship_tag": "ABX9TyOVemYaDvy5D/6xtJoQB+xi",
      "include_colab_link": true
    },
    "kernelspec": {
      "name": "python3",
      "display_name": "Python 3"
    }
  },
  "cells": [
    {
      "cell_type": "markdown",
      "metadata": {
        "id": "view-in-github",
        "colab_type": "text"
      },
      "source": [
        "<a href=\"https://colab.research.google.com/github/ZeyadOsama/tensorflow-handy-snippets/blob/master/visualizations/Visualizing_Intermediate_Representations.ipynb\" target=\"_parent\"><img src=\"https://colab.research.google.com/assets/colab-badge.svg\" alt=\"Open In Colab\"/></a>"
      ]
    },
    {
      "cell_type": "markdown",
      "metadata": {
        "id": "OaDQnW5zrq3A",
        "colab_type": "text"
      },
      "source": [
        "# Visualizing Intermediate Representations"
      ]
    },
    {
      "cell_type": "markdown",
      "metadata": {
        "id": "yM7q6vI5zR7t",
        "colab_type": "text"
      },
      "source": [
        "### Description\n",
        "\n",
        "\n",
        "To get a feel for what kind of features ConvNet has learned, visualize how an input gets transformed as it goes through the convnet."
      ]
    },
    {
      "cell_type": "markdown",
      "metadata": {
        "id": "Ou1KRXxSzKmz",
        "colab_type": "text"
      },
      "source": [
        "### Code Snippet"
      ]
    },
    {
      "cell_type": "code",
      "metadata": {
        "id": "yEJqBSQVrmEf",
        "colab_type": "code",
        "colab": {}
      },
      "source": [
        "import tensorflow.keras.models\n",
        "\n",
        "def visualize_layers(model: tensorflow.keras.models, img_path: str, target_size:()):\n",
        "    \"\"\"\n",
        "    To get a feel for what kind of features ConvNet has learned,\n",
        "    visualize how an input gets transformed as it goes through the convnet.\n",
        "\n",
        "    :param model: compiled model\n",
        "    :param img_path: image path to visulize\n",
        "    :param target_size: image size\n",
        "    \"\"\"\n",
        "    import numpy as np\n",
        "    from tensorflow.keras.preprocessing.image import img_to_array, load_img\n",
        "\n",
        "    # Define a new Model that will take an image as input, and will output\n",
        "    # intermediate representations for all layers in the previous model after\n",
        "    # the first.\n",
        "    successive_outputs = [layer.output for layer in model.layers[1:]]\n",
        "    visualization_model = tf.keras.models.Model(inputs = model.input, outputs = successive_outputs)\n",
        "\n",
        "    # this is a PIL image\n",
        "    img = load_img(img_path, target_size=target_size) \n",
        "\n",
        "    # Numpy array with shape ((target_size), 3)\n",
        "    x = img_to_array(img)\n",
        "\n",
        "    # Numpy array with shape (1, (target_size), 3)\n",
        "    x = x.reshape((1,) + x.shape)\n",
        "\n",
        "    # Rescale by 1/255\n",
        "    x /= 255\n",
        "\n",
        "    # Run provided image through the network, thus obtaining all\n",
        "    # intermediate representations for this image.\n",
        "    successive_feature_maps = visualization_model.predict(x)\n",
        "\n",
        "    # These are the names of the layers, so can have them as part of the plot\n",
        "    layer_names = [layer.name for layer in model.layers]\n",
        "\n",
        "    # Display representations\n",
        "    for layer_name, feature_map in zip(layer_names, successive_feature_maps):\n",
        "        if len(feature_map.shape) == 4:\n",
        "            # Just do this for the conv / maxpool layers\n",
        "            # not the fully-connected layers\n",
        "            n_features = feature_map.shape[-1]  # number of features in feature map\n",
        "            \n",
        "            # The feature map has shape (1, size, size, n_features)\n",
        "            size = feature_map.shape[1]\n",
        "            \n",
        "            # Tile images in this matrix\n",
        "            display_grid = np.zeros((size, size * n_features))\n",
        "            \n",
        "            for i in range(n_features):\n",
        "                # Postprocess the feature to make it visually palatable\n",
        "                x = feature_map[0, :, :, i]\n",
        "                x -= x.mean()\n",
        "                x /= x.std()\n",
        "                x *= 64\n",
        "                x += 128\n",
        "                x = np.clip(x, 0, 255).astype('uint8')\n",
        "                \n",
        "                # Tile each filter into this big horizontal grid\n",
        "                display_grid[:, i * size : (i + 1) * size] = x\n",
        "            \n",
        "            scale = 20. / n_features\n",
        "            \n",
        "            # Display the grid\n",
        "            plt.figure(figsize=(scale * n_features, scale))\n",
        "            plt.title(layer_name)\n",
        "            plt.grid(False)\n",
        "            plt.imshow(display_grid, aspect='auto', cmap='viridis')\n",
        "    return"
      ],
      "execution_count": 0,
      "outputs": []
    }
  ]
}